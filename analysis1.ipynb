{
 "cells": [
  {
   "cell_type": "code",
   "execution_count": 1,
   "id": "1393c07a-08ae-4054-81c9-329b30d90d1a",
   "metadata": {},
   "outputs": [],
   "source": [
    "import pandas as pd\n",
    "import numpy as np\n",
    "import matplotlib.pyplot as plt\n",
    "import seaborn as sns\n",
    "import plotly.express as px\n",
    "\n",
    "from sklearn.model_selection import train_test_split"
   ]
  },
  {
   "cell_type": "code",
   "execution_count": 2,
   "id": "b9014d0f-68a0-4e7a-92b4-6ebb0ad8d1e5",
   "metadata": {},
   "outputs": [],
   "source": [
    "df = pd.read_csv('clean_df.csv')"
   ]
  },
  {
   "cell_type": "code",
   "execution_count": 3,
   "id": "3047f1ac",
   "metadata": {},
   "outputs": [],
   "source": [
    "# pisahkan data train dan test\n",
    "X = df.drop(columns='harga', axis=1)\n",
    "y = df['harga']\n",
    "\n",
    "X_train, X_test, y_train, y_test = train_test_split(X, y, test_size=0.2, random_state=0)\n",
    "\n",
    "train = pd.concat([X_train, y_train], axis=1).reset_index(drop=True)\n",
    "test = pd.concat([X_test, y_test], axis=1).reset_index(drop=True)"
   ]
  },
  {
   "cell_type": "code",
   "execution_count": 4,
   "id": "e1ef2984",
   "metadata": {},
   "outputs": [],
   "source": [
    "train.head()"
   ]
  },
  {
   "cell_type": "code",
   "execution_count": 5,
   "id": "eef6e130",
   "metadata": {},
   "outputs": [],
   "source": [
    "train.shape"
   ]
  },
  {
   "cell_type": "code",
   "execution_count": 6,
   "id": "8063dda2-ad13-47c8-bcbc-9d4ef7ab19d5",
   "metadata": {},
   "outputs": [],
   "source": [
    "train.info()"
   ]
  },
  {
   "cell_type": "code",
   "execution_count": 7,
   "id": "55338b66-20f3-4da3-b830-fede93eeb0c9",
   "metadata": {},
   "outputs": [],
   "source": [
    "train.describe()"
   ]
  },
  {
   "cell_type": "markdown",
   "id": "95f80e0c-62e7-4210-9bdd-c9285d427e1e",
   "metadata": {},
   "source": [
    "## Exploratory Data Analysis (EDA)"
   ]
  },
  {
   "cell_type": "code",
   "execution_count": 8,
   "id": "a03396cf-8162-4047-8871-3c2fbe7f9f3d",
   "metadata": {},
   "outputs": [],
   "source": [
    "# jumlah kamar tidur\n",
    "f = plt.figure(figsize=(15,5))\n",
    "\n",
    "f.add_subplot(1,2,1)\n",
    "sns.countplot(data=train, x='kamar_tidur')\n",
    "\n",
    "f.add_subplot(1,2,2)\n",
    "plt.boxplot(train[\"kamar_tidur\"])\n",
    "plt.show()"
   ]
  },
  {
   "cell_type": "markdown",
   "id": "710a2976-a2ae-420c-9503-0d84e77d62c8",
   "metadata": {},
   "source": [
    "- kamar paling banyak berjumlah 2-3\n",
    "- terdapat rumah yang memiliki 32 kamar"
   ]
  },
  {
   "cell_type": "code",
   "execution_count": 9,
   "id": "11593f4f-d639-45c8-912b-482c02c5d5ff",
   "metadata": {},
   "outputs": [],
   "source": [
    "# kamar tidur vs harga\n",
    "fig = px.scatter(train, x=\"kamar_tidur\", y=\"harga\",\n",
    "                 title=\"Korelasi Antara Jumlah Kamar Tidur & Harga Rumah\",\n",
    "                 color=\"harga\"\n",
    "                )\n",
    "fig.show()\n",
    "# import plotly.graph_objects as go\n",
    "# fig_widget = go.FigureWidget(fig)\n",
    "# fig_widget"
   ]
  },
  {
   "cell_type": "markdown",
   "id": "7d08a898",
   "metadata": {},
   "source": [
    "- rumah dengan jumlah kamar yang sama memiliki harga bervariasi\n",
    "- terdapat outlier dimana jumlah kamar cukup banyak dengan harga yang sangat rendah"
   ]
  },
  {
   "cell_type": "code",
   "execution_count": 10,
   "id": "d7aa8888",
   "metadata": {},
   "outputs": [],
   "source": [
    "# periksa outlier\n",
    "train[train['kamar_tidur'] > 20]"
   ]
  },
  {
   "cell_type": "code",
   "execution_count": 11,
   "id": "5f8e2eb0",
   "metadata": {},
   "outputs": [],
   "source": [
    "# bandingkan kamar tidur dengan luas bangunan\n",
    "fig = px.scatter(train, x=\"kamar_tidur\", y=\"luas_bangunan\",\n",
    "                 title=\"Korelasi Antara Jumlah Kamar Tidur & Luas Bangunan\",\n",
    "                 color=\"luas_bangunan\"\n",
    "                 )\n",
    "fig.show()"
   ]
  },
  {
   "cell_type": "markdown",
   "id": "4794286c",
   "metadata": {},
   "source": [
    "Dapat dilihat, rumah dengan kamar sejumlah 32 memiliki luas bangunan yang cukup kecil. Rumah dengan 70 m^2 tidak mungkin memiliki jumlah kamar sebanyak 32. \n",
    "Dapat disimpulkan bahwa observasi ini merupakan kesalahan input atau kesalahan pada tahap scraping, sehingga akan dihapus"
   ]
  },
  {
   "cell_type": "code",
   "execution_count": 12,
   "id": "bdb3f80e",
   "metadata": {},
   "outputs": [],
   "source": [
    "# kamar mandi\n",
    "f = plt.figure(figsize=(15,5))\n",
    "\n",
    "f.add_subplot(1,2,1)\n",
    "sns.countplot(data=train, x='kamar_mandi')\n",
    "\n",
    "f.add_subplot(1,2,2)\n",
    "plt.boxplot(train[\"kamar_mandi\"])\n",
    "plt.show()"
   ]
  },
  {
   "cell_type": "code",
   "execution_count": 13,
   "id": "0ce5020e",
   "metadata": {},
   "outputs": [],
   "source": [
    "fig = px.scatter(train, x=\"kamar_mandi\", y=\"harga\",\n",
    "                 title=\"Korelasi Antara Jumlah Kamar Mandi & Harga Rumah\",\n",
    "                color=\"harga\"\n",
    "                )\n",
    "fig.show()"
   ]
  },
  {
   "cell_type": "markdown",
   "id": "96bf2037",
   "metadata": {},
   "source": [
    "- rumah dengan jumlah kamar mandi yang sama memiliki harga yang bervariasi\n",
    "- terdapat outlier dimana jumlah kamar mandi cukup banyak dengan harga yang sangat rendah dibanding rumah lain"
   ]
  },
  {
   "cell_type": "code",
   "execution_count": 14,
   "id": "d474216a-c262-4e88-b583-1bb0dcf53caf",
   "metadata": {},
   "outputs": [],
   "source": [
    "train[train['kamar_mandi'] > 10]"
   ]
  },
  {
   "cell_type": "markdown",
   "id": "ee9fb4f6-b80d-4c6a-8399-c0b302e59ffa",
   "metadata": {},
   "source": [
    "rumah dengan kamar mandi > 10 memiliki jumlah kamar mandi yang sama dengan kamar tidur"
   ]
  },
  {
   "cell_type": "code",
   "execution_count": 15,
   "id": "c59a9a44-1c52-45d0-9ec4-d201acf846b0",
   "metadata": {},
   "outputs": [],
   "source": [
    "fig = px.scatter(train, x=\"kamar_mandi\", y=\"luas_bangunan\",\n",
    "                 title=\"Korelasi Antara Jumlah Kamar Mandi & Luas Bangunan\",\n",
    "                color=\"luas_bangunan\"\n",
    "                )\n",
    "fig.show()"
   ]
  },
  {
   "cell_type": "code",
   "execution_count": 16,
   "id": "d31adfd9",
   "metadata": {},
   "outputs": [],
   "source": [
    "# luas bangunan\n",
    "# sebaran luas bangunan\n",
    "f = plt.figure(figsize=(15,5))\n",
    "\n",
    "f.add_subplot(1,2,1)\n",
    "sns.kdeplot(train['luas_bangunan'])\n",
    "\n",
    "f.add_subplot(1,2,2)\n",
    "plt.boxplot(train[\"luas_bangunan\"])\n",
    "plt.show()"
   ]
  },
  {
   "cell_type": "markdown",
   "id": "39150da2",
   "metadata": {},
   "source": [
    "- mayoritas rumah memiliki luas bangunan di bawah 500 m2\n",
    "- terdapat cukup banyak outlier"
   ]
  },
  {
   "cell_type": "code",
   "execution_count": 17,
   "id": "9ed8f746",
   "metadata": {},
   "outputs": [],
   "source": [
    "# luas bangunan vs harga \n",
    "fig = px.scatter(train, x=\"luas_bangunan\", y=\"harga\",\n",
    "                 title=\"Korelasi Antara Jumlah Luas Bangunan & Harga Rumah\",\n",
    "                color=\"harga\"\n",
    "                )\n",
    "fig.show()"
   ]
  },
  {
   "cell_type": "code",
   "execution_count": 18,
   "id": "bc3c329b",
   "metadata": {},
   "outputs": [],
   "source": [
    "# luas lahan\n",
    "# sebaran luas lahan\n",
    "f = plt.figure(figsize=(15,5))\n",
    "\n",
    "f.add_subplot(1,2,1)\n",
    "sns.kdeplot(train['luas_lahan'])\n",
    "\n",
    "f.add_subplot(1,2,2)\n",
    "plt.boxplot(train[\"luas_lahan\"])\n",
    "plt.show()"
   ]
  },
  {
   "cell_type": "code",
   "execution_count": 19,
   "id": "ffed7b07",
   "metadata": {},
   "outputs": [],
   "source": [
    "# luas lahan vs harga \n",
    "fig = px.scatter(train, x=\"luas_lahan\", y=\"harga\",\n",
    "                 title=\"Korelasi Antara Jumlah Luas Lahan & Harga Rumah\",\n",
    "                color=\"harga\"\n",
    "                )\n",
    "fig.show()"
   ]
  },
  {
   "cell_type": "markdown",
   "id": "83971970",
   "metadata": {},
   "source": [
    "- terdapat outlier dimana terdapat luas lahan yang sangat luas dengan harga yang sangat murah apabila dibanding yang lainnya"
   ]
  },
  {
   "cell_type": "markdown",
   "id": "c6322215",
   "metadata": {},
   "source": [
    "Berdasarkan analisis awal, terdapat outlier pada semua feature numeric yang dapat mempengaruhi hasil model. Langkah selanjutnya adalah memberikan tiga perlakuan pada dataset, yaitu membiarkan outlier, menghapus outlier dengan Z-score, dan hapus outlier dengan IQR untuk kemudian dibandingkan hasil metric nya"
   ]
  },
  {
   "cell_type": "code",
   "execution_count": 20,
   "id": "3dffc572",
   "metadata": {},
   "outputs": [],
   "source": [
    "# daerah dengan harga rumah termahal\n",
    "loc_mean = train.groupby(\"lokasi\")[\"harga\"].mean().reset_index().sort_values(by='harga', ascending=True)\n",
    "loc_mean"
   ]
  },
  {
   "cell_type": "code",
   "execution_count": 21,
   "id": "e3af85dd",
   "metadata": {},
   "outputs": [],
   "source": [
    "plt.figure(figsize=(8, 6))\n",
    "plt.barh(loc_mean['lokasi'], loc_mean['harga'])\n",
    "plt.xlabel('Rata-Rata Harga Rumah (Juta)')\n",
    "plt.ylabel('Lokasi')\n",
    "plt.title('Rata-Rata Harga Rumah Berdasarkan Lokasi\\n')\n",
    "plt.grid(axis='x')\n",
    "labels, locations = plt.xticks()\n",
    "plt.xticks(labels, (labels/1000000).astype(int))\n",
    "plt.tight_layout()\n",
    "plt.show()"
   ]
  },
  {
   "cell_type": "markdown",
   "id": "139e8403",
   "metadata": {},
   "source": [
    "Dapat dilihat dari bar chart di atas, daerah Cinere merupakan daerah yang mempunyai rata-rata harga rumah termahal di kota Depok. Diikuti oleh Limo, Beji, dsb"
   ]
  },
  {
   "cell_type": "code",
   "execution_count": 22,
   "id": "321e5389",
   "metadata": {},
   "outputs": [],
   "source": [
    "# save hasil split train dan test\n",
    "train.to_csv(\"train_df.csv\", index=False)\n",
    "test.to_csv(\"test_df.csv\", index=False)"
   ]
  },
  {
   "cell_type": "markdown",
   "id": "f84622bd",
   "metadata": {},
   "source": [
    "## Treat Outlier\n",
    "Save hasil treat outlier untuk dibandingkan dengan membiarkan outlier"
   ]
  },
  {
   "cell_type": "markdown",
   "id": "34f33f9f",
   "metadata": {},
   "source": [
    "### Hapus semua outlier (Z-score) == train_zs"
   ]
  },
  {
   "cell_type": "code",
   "execution_count": 23,
   "id": "22dcc628",
   "metadata": {},
   "outputs": [],
   "source": [
    "def zscore_outlier(df, column_name, threshold=3):\n",
    "    # Calculate the z-score for the specified column\n",
    "    z_scores = (df[column_name] - df[column_name].mean()) / df[column_name].std()\n",
    "\n",
    "    # Find the indices of outliers based on the threshold\n",
    "    outlier_indices = z_scores.abs() > threshold\n",
    "\n",
    "    # Print the indices of outliers\n",
    "    print(\"Indices of Outliers:\")\n",
    "    print(df[outlier_indices].index.tolist())"
   ]
  },
  {
   "cell_type": "code",
   "execution_count": 24,
   "id": "221a731b",
   "metadata": {},
   "outputs": [],
   "source": [
    "zscore_outlier(train, 'kamar_tidur')"
   ]
  },
  {
   "cell_type": "code",
   "execution_count": 25,
   "id": "82892662",
   "metadata": {},
   "outputs": [],
   "source": [
    "train_zs = train.drop([111, 118, 288, 398, 422, 438, 468, 519, 603, 612, 618, 733, 748, 817, 993, 1024, 1051, 1082, 1199, 1227, 1355, 1552, 1579])\n",
    "train_zs = train_zs.reset_index(drop=True)"
   ]
  },
  {
   "cell_type": "code",
   "execution_count": 26,
   "id": "7ba12682",
   "metadata": {},
   "outputs": [],
   "source": [
    "zscore_outlier(train_zs, 'kamar_mandi')"
   ]
  },
  {
   "cell_type": "code",
   "execution_count": 27,
   "id": "70bf5f07",
   "metadata": {},
   "outputs": [],
   "source": [
    "train_zs = train_zs.drop([118, 141, 288, 422, 438, 468, 519, 580, 603, 618, 733, 817, 1024, 1227, 1355, 1462, 1579, 1686])\n",
    "train_zs = train_zs.reset_index(drop=True)"
   ]
  },
  {
   "cell_type": "code",
   "execution_count": 28,
   "id": "c99b0531",
   "metadata": {},
   "outputs": [],
   "source": [
    "zscore_outlier(train_zs, 'luas_bangunan')"
   ]
  },
  {
   "cell_type": "code",
   "execution_count": 29,
   "id": "9ad64c08",
   "metadata": {},
   "outputs": [],
   "source": [
    "train_zs = train_zs.drop([118, 141, 165, 282, 398, 520, 580, 603, 618, 733, 748, 783, 817, 959, 993, 1000, 1015, 1024, 1051, 1060, 1124, 1286, 1351, 1388, 1435, 1579, 1686])\n",
    "train_zs = train_zs.reset_index(drop=True)"
   ]
  },
  {
   "cell_type": "code",
   "execution_count": 30,
   "id": "6813f314",
   "metadata": {},
   "outputs": [],
   "source": [
    "zscore_outlier(train_zs, 'luas_lahan')"
   ]
  },
  {
   "cell_type": "code",
   "execution_count": 31,
   "id": "45df7bfc",
   "metadata": {},
   "outputs": [],
   "source": [
    "train_zs = train_zs.drop([996])\n",
    "train_zs = train_zs.reset_index(drop=True)"
   ]
  },
  {
   "cell_type": "code",
   "execution_count": 32,
   "id": "9bd010d7",
   "metadata": {},
   "outputs": [],
   "source": [
    "train_zs.shape"
   ]
  },
  {
   "cell_type": "code",
   "execution_count": 33,
   "id": "d8706aa8",
   "metadata": {},
   "outputs": [],
   "source": [
    "train_zs.to_csv(\"train_zscore_outlier.csv\", index=False)"
   ]
  },
  {
   "cell_type": "markdown",
   "id": "cad24e41",
   "metadata": {},
   "source": [
    "### Hapus semua outlier (IQR) == train_iqr"
   ]
  },
  {
   "cell_type": "code",
   "execution_count": 34,
   "id": "298f9c60",
   "metadata": {},
   "outputs": [],
   "source": [
    "def iqr_outlier(df, column_name):\n",
    "    # Get the column data\n",
    "    column_data = df[column_name]\n",
    "\n",
    "    # Calculate the first quartile (Q1) and third quartile (Q3)\n",
    "    Q1 = column_data.quantile(0.25)\n",
    "    Q3 = column_data.quantile(0.75)\n",
    "\n",
    "    # Calculate the IQR (Interquartile Range)\n",
    "    IQR = Q3 - Q1\n",
    "\n",
    "    # Define the lower and upper bounds for outliers\n",
    "    lower_bound = Q1 - 1.5 * IQR\n",
    "    upper_bound = Q3 + 1.5 * IQR\n",
    "\n",
    "    # Find the indices of outliers\n",
    "    outlier_indices = (column_data < lower_bound) | (column_data > upper_bound)\n",
    "\n",
    "    # Print the indices of outliers\n",
    "    print(\"Indices of Outliers:\")\n",
    "    print(df[outlier_indices].index.tolist())"
   ]
  },
  {
   "cell_type": "code",
   "execution_count": 35,
   "id": "b9766167",
   "metadata": {},
   "outputs": [],
   "source": [
    "iqr_outlier(train, 'kamar_tidur')"
   ]
  },
  {
   "cell_type": "code",
   "execution_count": 36,
   "id": "d8cd06d3",
   "metadata": {},
   "outputs": [],
   "source": [
    "idx = [13, 94, 111, 118, 141, 187, 237, 251, 252, 282, 288, 352, 398, 405, 422, 438, 446, 468, 507, 511, 519, 520, 523, 525, 580, 596, 603, 612, 618, 650, 664, 722, 728, 733, 742, 748, 817, 825, 838, 865, 867, 890, 919, 938, 951, 959, 979, 993, 1000, 1015, 1024, 1051, 1082, 1158, 1164, 1173, 1199, 1200, 1206, 1227, 1241, 1257, 1264, 1342, 1345, 1354, 1355, 1388, 1462, 1504, 1517, 1518, 1519, 1523, 1524, 1552, 1572, 1579, 1686, 1703]\n",
    "train_iqr = train.drop(idx).reset_index(drop=True)"
   ]
  },
  {
   "cell_type": "code",
   "execution_count": 37,
   "id": "d664b033",
   "metadata": {},
   "outputs": [],
   "source": [
    "iqr_outlier(train_iqr, 'kamar_mandi')"
   ]
  },
  {
   "cell_type": "code",
   "execution_count": 38,
   "id": "fee1f3f0",
   "metadata": {},
   "outputs": [],
   "source": [
    "idx = [288, 438, 519, 603, 733, 817, 1024, 1227, 1355]\n",
    "train_iqr = train_iqr.drop(idx).reset_index(drop=True)"
   ]
  },
  {
   "cell_type": "code",
   "execution_count": 39,
   "id": "60c95d2e",
   "metadata": {},
   "outputs": [],
   "source": [
    "iqr_outlier(train_iqr, 'luas_bangunan')"
   ]
  },
  {
   "cell_type": "code",
   "execution_count": 40,
   "id": "3596b585",
   "metadata": {},
   "outputs": [],
   "source": [
    "idx = [30, 51, 74, 82, 123, 126, 133, 160, 185, 233, 241, 259, 277, 292, 362, 376, 384, 430, 432, 462, 473, 475, 481, 496, 505, 553, 567, 578, 580, 581, 595, 596, 606, 660, 684, 685, 694, 695, 698, 706, 742, 746, 754, 779, 781, 791, 806, 869, 876, 908, 914, 932, 964, 976, 1002, 1016, 1018, 1035, 1063, 1064, 1091, 1104, 1110, 1114, 1160, 1188, 1216, 1226, 1276, 1278, 1279, 1349, 1355, 1358, 1408, 1432, 1459, 1555, 1575, 1616, 1645]\n",
    "train_iqr = train_iqr.drop(idx).reset_index(drop=True)"
   ]
  },
  {
   "cell_type": "code",
   "execution_count": 41,
   "id": "e1dbb757",
   "metadata": {},
   "outputs": [],
   "source": [
    "iqr_outlier(train_iqr, 'luas_lahan')"
   ]
  },
  {
   "cell_type": "code",
   "execution_count": 42,
   "id": "816a4a23",
   "metadata": {},
   "outputs": [],
   "source": [
    "idx = [0, 62, 64, 120, 128, 133, 143, 207, 245, 272, 277, 312, 319, 329, 336, 372, 392, 401, 407, 414, 433, 447, 448, 461, 486, 513, 518, 520, 543, 544, 545, 566, 602, 616, 622, 628, 644, 649, 655, 668, 673, 694, 698, 702, 712, 737, 755, 792, 796, 807, 813, 838, 867, 901, 915, 917, 930, 973, 979, 984, 1015, 1028, 1030, 1034, 1048, 1054, 1069, 1072, 1157, 1185, 1186, 1189, 1204, 1218, 1221, 1223, 1236, 1239, 1247, 1272, 1286, 1296, 1324, 1362, 1366, 1371, 1391, 1394, 1411, 1416, 1421, 1425, 1443, 1469, 1484, 1504, 1529, 1536, 1552]\n",
    "train_iqr = train_iqr.drop(idx).reset_index(drop=True)"
   ]
  },
  {
   "cell_type": "code",
   "execution_count": 43,
   "id": "af6b3b97",
   "metadata": {},
   "outputs": [],
   "source": [
    "train_iqr.shape"
   ]
  },
  {
   "cell_type": "code",
   "execution_count": 44,
   "id": "10c0d49b",
   "metadata": {},
   "outputs": [],
   "source": [
    "train_iqr.to_csv(\"train_iqr_outlier.csv\", index=False)"
   ]
  }
 ],
 "metadata": {
  "kernelspec": {
   "display_name": "Python [conda env:ml]",
   "language": "python",
   "name": "conda-env-ml-py"
  },
  "language_info": {
   "codemirror_mode": {
    "name": "ipython",
    "version": 3
   },
   "file_extension": ".py",
   "mimetype": "text/x-python",
   "name": "python",
   "nbconvert_exporter": "python",
   "pygments_lexer": "ipython3",
   "version": "3.10.12"
  }
 },
 "nbformat": 4,
 "nbformat_minor": 5
}
